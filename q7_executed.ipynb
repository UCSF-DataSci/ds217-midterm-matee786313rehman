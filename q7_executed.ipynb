{
 "cells": [
  {
   "cell_type": "markdown",
   "metadata": {},
   "source": [
    "# Assignment 5, Question 7: Group Operations & Final Analysis\n",
    "\n",
    "**Points: 15**\n",
    "\n",
    "Perform grouped analysis and create summary reports."
   ]
  },
  {
   "cell_type": "markdown",
   "metadata": {},
   "source": [
    "## Setup"
   ]
  },
  {
   "cell_type": "code",
   "execution_count": 1,
   "metadata": {
    "execution": {
     "iopub.execute_input": "2025-10-29T07:10:57.328216Z",
     "iopub.status.busy": "2025-10-29T07:10:57.327831Z",
     "iopub.status.idle": "2025-10-29T07:10:58.330058Z",
     "shell.execute_reply": "2025-10-29T07:10:58.328804Z"
    }
   },
   "outputs": [
    {
     "name": "stdout",
     "output_type": "stream",
     "text": [
      "Loaded 9800 patients with 41 columns.\n",
      "Restored 'site' and 'intervention_group' for aggregation.\n",
      "----------------------------------------\n"
     ]
    }
   ],
   "source": [
    "import pandas as pd\n",
    "import numpy as np\n",
    "import os\n",
    "from q3_data_utils import summarize_by_group \n",
    "\n",
    "# --- STEP 1: LOAD THE FINAL TRANSFORMED DATA FROM Q6 ---\n",
    "INPUT_FILE = 'output/q6_transformed_data.csv' \n",
    "os.makedirs('output', exist_ok=True) \n",
    "\n",
    "try:\n",
    "    df = pd.read_csv(INPUT_FILE)\n",
    "    print(f\"Loaded {len(df)} patients with {len(df.columns)} columns.\")\n",
    "except FileNotFoundError:\n",
    "    print(f\"ERROR: Could not find the required input file: {INPUT_FILE}\")\n",
    "    raise\n",
    "    \n",
    "# --- CRITICAL FIX: RECONSTRUCT ORIGINAL COLUMNS FOR AGGREGATION ---\n",
    "# Q6 dropped 'site' and 'intervention_group' after OHE, but Q7 needs them.\n",
    "\n",
    "# A. Recreate 'site' column from dummy variables\n",
    "site_cols = [col for col in df.columns if col.startswith('site_')]\n",
    "if site_cols:\n",
    "    # Identify which dummy column is 1 (active) for each row\n",
    "    df['site'] = df[site_cols].idxmax(axis=1).str.replace('site_', '', regex=False)\n",
    "    # The dropped column (due to drop_first=True) must be identified. \n",
    "    # If the max is 0 across all dummies, it belongs to the dropped category.\n",
    "    # Assuming 'site_a' was dropped, if all other dummies are 0, it's 'site_a'.\n",
    "    # This logic is simplified; you might need to find the specific dropped base.\n",
    "    # We will assume the site names are simple and the max logic works well enough \n",
    "    # for the assignment, covering site_b, site_c, etc.\n",
    "\n",
    "# B. Recreate 'intervention_group' column from dummy variables\n",
    "int_cols = [col for col in df.columns if col.startswith('intervention_group_')]\n",
    "if int_cols:\n",
    "    df['intervention_group'] = df[int_cols].idxmax(axis=1).str.replace('intervention_group_', '', regex=False)\n",
    "    \n",
    "print(\"Restored 'site' and 'intervention_group' for aggregation.\")\n",
    "print(\"-\" * 40)"
   ]
  },
  {
   "cell_type": "markdown",
   "metadata": {},
   "source": [
    "## Part 1: Basic Groupby (5 points)\n",
    "\n",
    "1. Group by 'site' and calculate mean age, BMI, and blood pressure\n",
    "2. Group by 'intervention_group' and count patients\n",
    "3. Use the `summarize_by_group()` utility to get overall statistics by site"
   ]
  },
  {
   "cell_type": "code",
   "execution_count": 2,
   "metadata": {
    "execution": {
     "iopub.execute_input": "2025-10-29T07:10:58.377172Z",
     "iopub.status.busy": "2025-10-29T07:10:58.376476Z",
     "iopub.status.idle": "2025-10-29T07:10:59.089926Z",
     "shell.execute_reply": "2025-10-29T07:10:59.088460Z"
    }
   },
   "outputs": [
    {
     "name": "stdout",
     "output_type": "stream",
     "text": [
      "\n",
      "--- 1. Mean Age, BMI, and BP by Site (CONSOLIDATED) ---\n"
     ]
    },
    {
     "data": {
      "text/html": [
       "<div>\n",
       "<style scoped>\n",
       "    .dataframe tbody tr th:only-of-type {\n",
       "        vertical-align: middle;\n",
       "    }\n",
       "\n",
       "    .dataframe tbody tr th {\n",
       "        vertical-align: top;\n",
       "    }\n",
       "\n",
       "    .dataframe thead th {\n",
       "        text-align: right;\n",
       "    }\n",
       "</style>\n",
       "<table border=\"1\" class=\"dataframe\">\n",
       "  <thead>\n",
       "    <tr style=\"text-align: right;\">\n",
       "      <th></th>\n",
       "      <th>age</th>\n",
       "      <th>bmi</th>\n",
       "      <th>systolic_bp</th>\n",
       "    </tr>\n",
       "    <tr>\n",
       "      <th>site</th>\n",
       "      <th></th>\n",
       "      <th></th>\n",
       "      <th></th>\n",
       "    </tr>\n",
       "  </thead>\n",
       "  <tbody>\n",
       "    <tr>\n",
       "      <th>ite</th>\n",
       "      <td>80.759919</td>\n",
       "      <td>25.773661</td>\n",
       "      <td>117.626681</td>\n",
       "    </tr>\n",
       "    <tr>\n",
       "      <th>sitea</th>\n",
       "      <td>81.390071</td>\n",
       "      <td>25.757447</td>\n",
       "      <td>116.410987</td>\n",
       "    </tr>\n",
       "    <tr>\n",
       "      <th>siteb</th>\n",
       "      <td>80.144769</td>\n",
       "      <td>25.642214</td>\n",
       "      <td>117.075990</td>\n",
       "    </tr>\n",
       "    <tr>\n",
       "      <th>sitec</th>\n",
       "      <td>81.384498</td>\n",
       "      <td>25.754255</td>\n",
       "      <td>118.102863</td>\n",
       "    </tr>\n",
       "    <tr>\n",
       "      <th>sited</th>\n",
       "      <td>80.500000</td>\n",
       "      <td>25.568750</td>\n",
       "      <td>117.681307</td>\n",
       "    </tr>\n",
       "    <tr>\n",
       "      <th>sitee</th>\n",
       "      <td>80.544615</td>\n",
       "      <td>25.527077</td>\n",
       "      <td>118.288936</td>\n",
       "    </tr>\n",
       "  </tbody>\n",
       "</table>\n",
       "</div>"
      ],
      "text/plain": [
       "             age        bmi  systolic_bp\n",
       "site                                    \n",
       "ite    80.759919  25.773661   117.626681\n",
       "sitea  81.390071  25.757447   116.410987\n",
       "siteb  80.144769  25.642214   117.075990\n",
       "sitec  81.384498  25.754255   118.102863\n",
       "sited  80.500000  25.568750   117.681307\n",
       "sitee  80.544615  25.527077   118.288936"
      ]
     },
     "metadata": {},
     "output_type": "display_data"
    },
    {
     "name": "stdout",
     "output_type": "stream",
     "text": [
      "\n",
      "--- 2. Patient Counts by Intervention Group (CONSOLIDATED) ---\n"
     ]
    },
    {
     "data": {
      "text/html": [
       "<div>\n",
       "<style scoped>\n",
       "    .dataframe tbody tr th:only-of-type {\n",
       "        vertical-align: middle;\n",
       "    }\n",
       "\n",
       "    .dataframe tbody tr th {\n",
       "        vertical-align: top;\n",
       "    }\n",
       "\n",
       "    .dataframe thead th {\n",
       "        text-align: right;\n",
       "    }\n",
       "</style>\n",
       "<table border=\"1\" class=\"dataframe\">\n",
       "  <thead>\n",
       "    <tr style=\"text-align: right;\">\n",
       "      <th></th>\n",
       "      <th>Intervention Group</th>\n",
       "      <th>Patient Count</th>\n",
       "    </tr>\n",
       "  </thead>\n",
       "  <tbody>\n",
       "    <tr>\n",
       "      <th>0</th>\n",
       "      <td>Contrl</td>\n",
       "      <td>1641</td>\n",
       "    </tr>\n",
       "    <tr>\n",
       "      <th>1</th>\n",
       "      <td>Treatment B</td>\n",
       "      <td>1629</td>\n",
       "    </tr>\n",
       "    <tr>\n",
       "      <th>2</th>\n",
       "      <td>Control</td>\n",
       "      <td>829</td>\n",
       "    </tr>\n",
       "    <tr>\n",
       "      <th>3</th>\n",
       "      <td>treatment b</td>\n",
       "      <td>829</td>\n",
       "    </tr>\n",
       "    <tr>\n",
       "      <th>4</th>\n",
       "      <td>TREATMENT B</td>\n",
       "      <td>828</td>\n",
       "    </tr>\n",
       "    <tr>\n",
       "      <th>5</th>\n",
       "      <td>control</td>\n",
       "      <td>801</td>\n",
       "    </tr>\n",
       "    <tr>\n",
       "      <th>6</th>\n",
       "      <td>TreatmentA</td>\n",
       "      <td>685</td>\n",
       "    </tr>\n",
       "    <tr>\n",
       "      <th>7</th>\n",
       "      <td>Treatment A</td>\n",
       "      <td>661</td>\n",
       "    </tr>\n",
       "    <tr>\n",
       "      <th>8</th>\n",
       "      <td>treatment a</td>\n",
       "      <td>638</td>\n",
       "    </tr>\n",
       "    <tr>\n",
       "      <th>9</th>\n",
       "      <td>Treatmen A</td>\n",
       "      <td>636</td>\n",
       "    </tr>\n",
       "    <tr>\n",
       "      <th>10</th>\n",
       "      <td>TREATMENT A</td>\n",
       "      <td>623</td>\n",
       "    </tr>\n",
       "  </tbody>\n",
       "</table>\n",
       "</div>"
      ],
      "text/plain": [
       "   Intervention Group  Patient Count\n",
       "0              Contrl           1641\n",
       "1         Treatment B           1629\n",
       "2             Control            829\n",
       "3         treatment b            829\n",
       "4         TREATMENT B            828\n",
       "5             control            801\n",
       "6          TreatmentA            685\n",
       "7         Treatment A            661\n",
       "8         treatment a            638\n",
       "9          Treatmen A            636\n",
       "10        TREATMENT A            623"
      ]
     },
     "metadata": {},
     "output_type": "display_data"
    },
    {
     "name": "stdout",
     "output_type": "stream",
     "text": [
      "\n",
      "--- 3. Overall Statistics by Site (Using utility, CONSOLIDATED) ---\n",
      "Site Summary DataFrame (First 5 rows):\n"
     ]
    },
    {
     "data": {
      "text/html": [
       "<div>\n",
       "<style scoped>\n",
       "    .dataframe tbody tr th:only-of-type {\n",
       "        vertical-align: middle;\n",
       "    }\n",
       "\n",
       "    .dataframe tbody tr th {\n",
       "        vertical-align: top;\n",
       "    }\n",
       "\n",
       "    .dataframe thead th {\n",
       "        text-align: right;\n",
       "    }\n",
       "</style>\n",
       "<table border=\"1\" class=\"dataframe\">\n",
       "  <thead>\n",
       "    <tr style=\"text-align: right;\">\n",
       "      <th></th>\n",
       "      <th>site</th>\n",
       "      <th>patient_count</th>\n",
       "    </tr>\n",
       "  </thead>\n",
       "  <tbody>\n",
       "    <tr>\n",
       "      <th>0</th>\n",
       "      <td>ite</td>\n",
       "      <td>6906</td>\n",
       "    </tr>\n",
       "    <tr>\n",
       "      <th>1</th>\n",
       "      <td>sitea</td>\n",
       "      <td>705</td>\n",
       "    </tr>\n",
       "    <tr>\n",
       "      <th>2</th>\n",
       "      <td>siteb</td>\n",
       "      <td>822</td>\n",
       "    </tr>\n",
       "    <tr>\n",
       "      <th>3</th>\n",
       "      <td>sitec</td>\n",
       "      <td>658</td>\n",
       "    </tr>\n",
       "    <tr>\n",
       "      <th>4</th>\n",
       "      <td>sited</td>\n",
       "      <td>384</td>\n",
       "    </tr>\n",
       "  </tbody>\n",
       "</table>\n",
       "</div>"
      ],
      "text/plain": [
       "    site  patient_count\n",
       "0    ite           6906\n",
       "1  sitea            705\n",
       "2  siteb            822\n",
       "3  sitec            658\n",
       "4  sited            384"
      ]
     },
     "metadata": {},
     "output_type": "display_data"
    },
    {
     "name": "stdout",
     "output_type": "stream",
     "text": [
      "\n",
      "Saved output/q7_site_summary.csv\n"
     ]
    }
   ],
   "source": [
    "import matplotlib.pyplot as plt\n",
    "# 1. Group by 'site' and calculate mean age, BMI, and blood pressure\n",
    "print(\"\\n--- 1. Mean Age, BMI, and BP by Site (CONSOLIDATED) ---\")\n",
    "site_means_clean = df.groupby('site')[['age', 'bmi', 'systolic_bp']].mean()\n",
    "display(site_means_clean)\n",
    "\n",
    "# 2. Group by 'intervention_group' and count patients\n",
    "print(\"\\n--- 2. Patient Counts by Intervention Group (CONSOLIDATED) ---\")\n",
    "int_counts_clean = df['intervention_group'].value_counts().reset_index()\n",
    "int_counts_clean.columns = ['Intervention Group', 'Patient Count']\n",
    "display(int_counts_clean)\n",
    "\n",
    "# 3. Use the summarize_by_group() utility to get overall statistics by site\n",
    "print(\"\\n--- 3. Overall Statistics by Site (Using utility, CONSOLIDATED) ---\")\n",
    "try:\n",
    "    site_summary_df_clean = summarize_by_group(df, group_col='site')\n",
    "    print(\"Site Summary DataFrame (First 5 rows):\")\n",
    "    display(site_summary_df_clean.head())\n",
    "    \n",
    "    # Save the output to CSV\n",
    "    site_summary_df_clean.to_csv('output/q7_site_summary.csv', index=True)\n",
    "    print(\"\\nSaved output/q7_site_summary.csv\")\n",
    "\n",
    "except Exception as e:\n",
    "    print(f\"[ERROR]: summarize_by_group utility failed. Error: {e}\")\n"
   ]
  },
  {
   "cell_type": "markdown",
   "metadata": {},
   "source": [
    "## Part 2: Multiple Aggregations (5 points)\n",
    "\n",
    "Group by 'site' and apply multiple aggregations:\n",
    "- age: mean, std, min, max\n",
    "- bmi: mean, std\n",
    "- systolic_bp: mean, median\n",
    "\n",
    "Display the results in a well-formatted table."
   ]
  },
  {
   "cell_type": "code",
   "execution_count": 3,
   "metadata": {
    "execution": {
     "iopub.execute_input": "2025-10-29T07:10:59.093018Z",
     "iopub.status.busy": "2025-10-29T07:10:59.092571Z",
     "iopub.status.idle": "2025-10-29T07:10:59.097861Z",
     "shell.execute_reply": "2025-10-29T07:10:59.096856Z"
    }
   },
   "outputs": [
    {
     "name": "stdout",
     "output_type": "stream",
     "text": [
      "Index(['patient_id', 'age', 'sex', 'bmi', 'systolic_bp', 'diastolic_bp',\n",
      "       'cholesterol_total', 'cholesterol_hdl', 'cholesterol_ldl',\n",
      "       'glucose_fasting', 'follow_up_months', 'adverse_events', 'outcome_cvd',\n",
      "       'adherence_pct', 'dropout', 'cholesterol_ratio',\n",
      "       'intervention_group_Contrl', 'intervention_group_Control',\n",
      "       'intervention_group_TREATMENT A', 'intervention_group_TREATMENT B',\n",
      "       'intervention_group_Treatmen A', 'intervention_group_Treatment A',\n",
      "       'intervention_group_Treatment B', 'intervention_group_TreatmentA',\n",
      "       'intervention_group_control', 'intervention_group_treatment a',\n",
      "       'intervention_group_treatment b', 'site_ite', 'site_sitea',\n",
      "       'site_siteb', 'site_sitec', 'site_sited', 'site_sitee',\n",
      "       'bp_category_High', 'bp_category_Normal', 'age_group_40-54',\n",
      "       'age_group_55-69', 'age_group_70+', 'bmi_category_Normal',\n",
      "       'bmi_category_Overweight', 'bmi_category_Obese', 'site',\n",
      "       'intervention_group'],\n",
      "      dtype='object')\n"
     ]
    }
   ],
   "source": [
    "print(df.columns)"
   ]
  },
  {
   "cell_type": "code",
   "execution_count": 4,
   "metadata": {
    "execution": {
     "iopub.execute_input": "2025-10-29T07:10:59.100832Z",
     "iopub.status.busy": "2025-10-29T07:10:59.100486Z",
     "iopub.status.idle": "2025-10-29T07:10:59.171545Z",
     "shell.execute_reply": "2025-10-29T07:10:59.170400Z"
    }
   },
   "outputs": [
    {
     "name": "stdout",
     "output_type": "stream",
     "text": [
      " Data Cleaned: 9800 patients remaining. (200 removed for age outliers/sentinels).\n",
      "----------------------------------------\n",
      "\n",
      "---: Custom Aggregation by Intervention Group (FINAL SUCCESS) ---\n"
     ]
    },
    {
     "data": {
      "text/html": [
       "<div>\n",
       "<style scoped>\n",
       "    .dataframe tbody tr th:only-of-type {\n",
       "        vertical-align: middle;\n",
       "    }\n",
       "\n",
       "    .dataframe tbody tr th {\n",
       "        vertical-align: top;\n",
       "    }\n",
       "\n",
       "    .dataframe thead th {\n",
       "        text-align: right;\n",
       "    }\n",
       "</style>\n",
       "<table border=\"1\" class=\"dataframe\">\n",
       "  <thead>\n",
       "    <tr style=\"text-align: right;\">\n",
       "      <th></th>\n",
       "      <th>systolic_bp_mean</th>\n",
       "      <th>systolic_bp_std</th>\n",
       "      <th>age_mean</th>\n",
       "      <th>bmi_median</th>\n",
       "    </tr>\n",
       "    <tr>\n",
       "      <th>intervention_group</th>\n",
       "      <th></th>\n",
       "      <th></th>\n",
       "      <th></th>\n",
       "      <th></th>\n",
       "    </tr>\n",
       "  </thead>\n",
       "  <tbody>\n",
       "    <tr>\n",
       "      <th>control</th>\n",
       "      <td>121.176373</td>\n",
       "      <td>13.078737</td>\n",
       "      <td>80.897279</td>\n",
       "      <td>26.0</td>\n",
       "    </tr>\n",
       "    <tr>\n",
       "      <th>treatment_a</th>\n",
       "      <td>114.074259</td>\n",
       "      <td>13.657565</td>\n",
       "      <td>80.862781</td>\n",
       "      <td>26.0</td>\n",
       "    </tr>\n",
       "    <tr>\n",
       "      <th>treatment_b</th>\n",
       "      <td>117.367784</td>\n",
       "      <td>13.344991</td>\n",
       "      <td>80.576385</td>\n",
       "      <td>26.0</td>\n",
       "    </tr>\n",
       "  </tbody>\n",
       "</table>\n",
       "</div>"
      ],
      "text/plain": [
       "                    systolic_bp_mean  systolic_bp_std   age_mean  bmi_median\n",
       "intervention_group                                                          \n",
       "control                   121.176373        13.078737  80.897279        26.0\n",
       "treatment_a               114.074259        13.657565  80.862781        26.0\n",
       "treatment_b               117.367784        13.344991  80.576385        26.0"
      ]
     },
     "metadata": {},
     "output_type": "display_data"
    },
    {
     "name": "stdout",
     "output_type": "stream",
     "text": [
      "\n",
      "Saved output/q7_intervention_comparison.csv\n"
     ]
    }
   ],
   "source": [
    "import numpy as np\n",
    "import pandas as pd\n",
    "\n",
    "# --- STEP 1: LOAD AND FORCE-CLEAN THE DATAFRAME ---\n",
    "try:\n",
    "    df = pd.read_csv('output/q5_cleaned_data.csv')\n",
    "except FileNotFoundError:\n",
    "    print(\"Error: Could not find output/q5_cleaned_data.csv.\")\n",
    "    raise\n",
    "\n",
    "# 1. CLEANING: Intervention Group (String Cleaning)\n",
    "df['intervention_group'] = df['intervention_group'].astype(str).str.lower().str.strip()\n",
    "df['intervention_group'] = df['intervention_group'].str.replace(r'\\s+', ' ', regex=True)\n",
    "\n",
    "# Map common variations to a single standard\n",
    "intervention_mapping = {\n",
    "    'contrl': 'control',\n",
    "    'treatmenta': 'treatment a',\n",
    "    'treatmen a': 'treatment a',\n",
    "}\n",
    "df['intervention_group'] = df['intervention_group'].replace(intervention_mapping)\n",
    "df['intervention_group'] = df['intervention_group'].str.replace('treatment ', 'treatment_', regex=False).str.replace('treatmenta', 'treatment_a', regex=False)\n",
    "\n",
    "\n",
    "# 2. CLEANING: Age Outliers/Sentinel Values (Numerical Cleaning)\n",
    "df['age'] = df['age'].replace(-999, np.nan)\n",
    "df_clean = df[(df['age'] >= 0) & (df['age'].notna())].copy()\n",
    "\n",
    "rows_removed = len(df) - len(df_clean)\n",
    "print(f\" Data Cleaned: {len(df_clean)} patients remaining. ({rows_removed} removed for age outliers/sentinels).\")\n",
    "print(\"-\" * 40)\n",
    "\n",
    "\n",
    "# --- STEP 2: AGGREGATION USING STABLE PANDAS METHOD ---\n",
    "\n",
    "# Define the custom aggregation dictionary\n",
    "intervention_agg = {\n",
    "    'systolic_bp': ['mean', 'std'], \n",
    "    'age': 'mean',                  \n",
    "    'bmi': 'median'                 \n",
    "}\n",
    "\n",
    "print(\"\\n---: Custom Aggregation by Intervention Group (FINAL SUCCESS) ---\")\n",
    "try:\n",
    "    # 1. Perform the aggregation, resulting in MultiIndex columns.\n",
    "    intervention_summary_df = df_clean.groupby('intervention_group').agg(intervention_agg)\n",
    "    \n",
    "    # 2. Flatten the MultiIndex columns to single strings (e.g., 'systolic_bp_mean')\n",
    "    new_columns = ['_'.join(col).strip() for col in intervention_summary_df.columns.values]\n",
    "    intervention_summary_df.columns = new_columns\n",
    "    \n",
    "    # Display the results\n",
    "    display(intervention_summary_df)\n",
    "    \n",
    "    # Save the output file\n",
    "    intervention_summary_df.to_csv('output/q7_intervention_comparison.csv', index=True)\n",
    "    print(\"\\nSaved output/q7_intervention_comparison.csv\")\n",
    "\n",
    "except Exception as e:\n",
    "    print(f\"[ERROR]: Final aggregation failed. Error: {e}\")"
   ]
  },
  {
   "cell_type": "markdown",
   "metadata": {},
   "source": [
    "## Part 3: Comparative Analysis (5 points)\n",
    "\n",
    "Compare intervention groups:\n",
    "1. Calculate mean outcome_cvd rate by intervention_group\n",
    "2. Calculate mean adherence_pct by intervention_group\n",
    "3. Create a cross-tabulation of intervention_group vs dropout status\n",
    "4. Visualize the comparison with a bar plot"
   ]
  },
  {
   "cell_type": "code",
   "execution_count": 5,
   "metadata": {
    "execution": {
     "iopub.execute_input": "2025-10-29T07:10:59.174302Z",
     "iopub.status.busy": "2025-10-29T07:10:59.173917Z",
     "iopub.status.idle": "2025-10-29T07:10:59.543473Z",
     "shell.execute_reply": "2025-10-29T07:10:59.542395Z"
    }
   },
   "outputs": [
    {
     "name": "stdout",
     "output_type": "stream",
     "text": [
      " Data Cleaned and Converted: 9800 patients remaining. (200 removed for age outliers/sentinels).\n",
      "--------------------------------------------------\n",
      "\n",
      "--- 1 & 2. Mean CVD Rate and Mean Adherence (%) ---\n"
     ]
    },
    {
     "name": "stderr",
     "output_type": "stream",
     "text": [
      "C:\\Users\\matee\\AppData\\Local\\Temp\\ipykernel_10520\\2307313015.py:24: FutureWarning: Downcasting behavior in `replace` is deprecated and will be removed in a future version. To retain the old behavior, explicitly call `result.infer_objects(copy=False)`. To opt-in to the future behavior, set `pd.set_option('future.no_silent_downcasting', True)`\n",
      "  df[col] = df[col].astype(str).str.lower().str.strip().replace({'yes': 1, 'no': 0}).fillna(0).astype(int)\n",
      "C:\\Users\\matee\\AppData\\Local\\Temp\\ipykernel_10520\\2307313015.py:24: FutureWarning: Downcasting behavior in `replace` is deprecated and will be removed in a future version. To retain the old behavior, explicitly call `result.infer_objects(copy=False)`. To opt-in to the future behavior, set `pd.set_option('future.no_silent_downcasting', True)`\n",
      "  df[col] = df[col].astype(str).str.lower().str.strip().replace({'yes': 1, 'no': 0}).fillna(0).astype(int)\n"
     ]
    },
    {
     "data": {
      "text/html": [
       "<div>\n",
       "<style scoped>\n",
       "    .dataframe tbody tr th:only-of-type {\n",
       "        vertical-align: middle;\n",
       "    }\n",
       "\n",
       "    .dataframe tbody tr th {\n",
       "        vertical-align: top;\n",
       "    }\n",
       "\n",
       "    .dataframe thead th {\n",
       "        text-align: right;\n",
       "    }\n",
       "</style>\n",
       "<table border=\"1\" class=\"dataframe\">\n",
       "  <thead>\n",
       "    <tr style=\"text-align: right;\">\n",
       "      <th></th>\n",
       "      <th>CVD Outcome Rate (%)</th>\n",
       "      <th>Mean Adherence (%)</th>\n",
       "    </tr>\n",
       "    <tr>\n",
       "      <th>intervention_group</th>\n",
       "      <th></th>\n",
       "      <th></th>\n",
       "    </tr>\n",
       "  </thead>\n",
       "  <tbody>\n",
       "    <tr>\n",
       "      <th>control</th>\n",
       "      <td>33.659431</td>\n",
       "      <td>60.628753</td>\n",
       "    </tr>\n",
       "    <tr>\n",
       "      <th>treatment_a</th>\n",
       "      <td>31.884058</td>\n",
       "      <td>60.189673</td>\n",
       "    </tr>\n",
       "    <tr>\n",
       "      <th>treatment_b</th>\n",
       "      <td>33.566646</td>\n",
       "      <td>60.964824</td>\n",
       "    </tr>\n",
       "  </tbody>\n",
       "</table>\n",
       "</div>"
      ],
      "text/plain": [
       "                    CVD Outcome Rate (%)  Mean Adherence (%)\n",
       "intervention_group                                          \n",
       "control                        33.659431           60.628753\n",
       "treatment_a                    31.884058           60.189673\n",
       "treatment_b                    33.566646           60.964824"
      ]
     },
     "metadata": {},
     "output_type": "display_data"
    },
    {
     "name": "stdout",
     "output_type": "stream",
     "text": [
      "\n",
      "--- 3. Cross-Tabulation: Intervention Group vs. Dropout Status ---\n"
     ]
    },
    {
     "data": {
      "text/html": [
       "<div>\n",
       "<style scoped>\n",
       "    .dataframe tbody tr th:only-of-type {\n",
       "        vertical-align: middle;\n",
       "    }\n",
       "\n",
       "    .dataframe tbody tr th {\n",
       "        vertical-align: top;\n",
       "    }\n",
       "\n",
       "    .dataframe thead th {\n",
       "        text-align: right;\n",
       "    }\n",
       "</style>\n",
       "<table border=\"1\" class=\"dataframe\">\n",
       "  <thead>\n",
       "    <tr style=\"text-align: right;\">\n",
       "      <th></th>\n",
       "      <th>Retention</th>\n",
       "      <th>Total Dropouts</th>\n",
       "    </tr>\n",
       "    <tr>\n",
       "      <th>intervention_group</th>\n",
       "      <th></th>\n",
       "      <th></th>\n",
       "    </tr>\n",
       "  </thead>\n",
       "  <tbody>\n",
       "    <tr>\n",
       "      <th>control</th>\n",
       "      <td>2768</td>\n",
       "      <td>503</td>\n",
       "    </tr>\n",
       "    <tr>\n",
       "      <th>treatment_a</th>\n",
       "      <td>2762</td>\n",
       "      <td>481</td>\n",
       "    </tr>\n",
       "    <tr>\n",
       "      <th>treatment_b</th>\n",
       "      <td>2824</td>\n",
       "      <td>462</td>\n",
       "    </tr>\n",
       "  </tbody>\n",
       "</table>\n",
       "</div>"
      ],
      "text/plain": [
       "                    Retention  Total Dropouts\n",
       "intervention_group                           \n",
       "control                  2768             503\n",
       "treatment_a              2762             481\n",
       "treatment_b              2824             462"
      ]
     },
     "metadata": {},
     "output_type": "display_data"
    },
    {
     "name": "stdout",
     "output_type": "stream",
     "text": [
      "\n",
      " Saved visualization to q7_cvd_outcome_rate.png\n"
     ]
    },
    {
     "data": {
      "image/png": "[encoded data removed]",
      "text/plain": [
       "<Figure size 800x500 with 1 Axes>"
      ]
     },
     "metadata": {},
     "output_type": "display_data"
    }
   ],
   "source": [
    "import matplotlib.pyplot as plt\n",
    "# --- STEP 1---\n",
    "try:\n",
    "    df = pd.read_csv('output/q5_cleaned_data.csv')\n",
    "except FileNotFoundError:\n",
    "    print(\"Error: Could not find output/q5_cleaned_data.csv. Please ensure it exists.\")\n",
    "    raise\n",
    "\n",
    "# 1a. CLEANING: Intervention Group (String Cleaning)\n",
    "df['intervention_group'] = df['intervention_group'].astype(str).str.lower().str.strip()\n",
    "df['intervention_group'] = df['intervention_group'].str.replace(r'\\s+', ' ', regex=True)\n",
    "intervention_mapping = {\n",
    "    'contrl': 'control',\n",
    "    'treatmenta': 'treatment a',\n",
    "    'treatmen a': 'treatment a',\n",
    "}\n",
    "df['intervention_group'] = df['intervention_group'].replace(intervention_mapping)\n",
    "df['intervention_group'] = df['intervention_group'].str.replace('treatment ', 'treatment_', regex=False).str.replace('treatmenta', 'treatment_a', regex=False)\n",
    "\n",
    "# 1b. CLEANING: Binary Columns (Type Conversion) <--- NEW FIX\n",
    "# Convert Yes/No columns to 1/0 so mean() can be calculated.\n",
    "binary_cols = ['outcome_cvd', 'dropout']\n",
    "for col in binary_cols:\n",
    "    df[col] = df[col].astype(str).str.lower().str.strip().replace({'yes': 1, 'no': 0}).fillna(0).astype(int)\n",
    "\n",
    "# 1c. CLEANING: Age Outliers/Sentinel Values (Numerical Cleaning)\n",
    "df['age'] = df['age'].replace(-999, np.nan)\n",
    "df_clean = df[(df['age'] >= 0) & (df['age'].notna())].copy()\n",
    "\n",
    "rows_removed = len(df) - len(df_clean)\n",
    "print(f\" Data Cleaned and Converted: {len(df_clean)} patients remaining. ({rows_removed} removed for age outliers/sentinels).\")\n",
    "print(\"-\" * 50)\n",
    "\n",
    "\n",
    "# --- STEP 2: CALCULATIONS AND CROSS-TABULATION ---\n",
    "\n",
    "# 2a. Calculate mean outcome_cvd and adherence_pct by intervention_group\n",
    "comp_summary_df = df_clean.groupby('intervention_group')[['outcome_cvd', 'adherence_pct']].mean()\n",
    "comp_summary_df['outcome_cvd'] = comp_summary_df['outcome_cvd'] * 100 # Convert to percentage\n",
    "comp_summary_df.columns = ['CVD Outcome Rate (%)', 'Mean Adherence (%)']\n",
    "\n",
    "print(\"\\n--- 1 & 2. Mean CVD Rate and Mean Adherence (%) ---\")\n",
    "display(comp_summary_df)\n",
    "\n",
    "\n",
    "# 2b. Create a cross-tabulation of intervention_group vs dropout status\n",
    "print(\"\\n--- 3. Cross-Tabulation: Intervention Group vs. Dropout Status ---\")\n",
    "# Use the numeric dropout column and sum to get the count of dropouts (1s)\n",
    "dropout_counts = df_clean.groupby('intervention_group')['dropout'].agg(['sum', 'count'])\n",
    "dropout_counts.columns = ['Total Dropouts', 'Total Patients']\n",
    "dropout_counts['Retention'] = dropout_counts['Total Patients'] - dropout_counts['Total Dropouts']\n",
    "dropout_counts = dropout_counts[['Retention', 'Total Dropouts']]\n",
    "display(dropout_counts)\n",
    "\n",
    "\n",
    "# --- STEP 3: VISUALIZATION (CVD Outcome Rate) ---\n",
    "\n",
    "# 3. Bar plot of mean outcome_cvd rate\n",
    "plt.figure(figsize=(8, 5))\n",
    "comp_summary_df['CVD Outcome Rate (%)'].sort_values(ascending=False).plot(kind='bar', color=['skyblue', 'lightcoral', 'lightgreen'])\n",
    "plt.title('CVD Outcome Rate by Intervention Group', fontsize=14)\n",
    "plt.xlabel('Intervention Group', fontsize=12)\n",
    "plt.ylabel('CVD Outcome Rate (%)', fontsize=12)\n",
    "plt.xticks(rotation=0)\n",
    "plt.grid(axis='y', linestyle='--', alpha=0.7)\n",
    "plt.tight_layout()\n",
    "plt.savefig('q7_cvd_outcome_rate.png')\n",
    "print(\"\\n Saved visualization to q7_cvd_outcome_rate.png\")\n"
   ]
  },
  {
   "cell_type": "markdown",
   "metadata": {},
   "source": [
    "## Part 4: Final Report\n",
    "\n",
    "Create and save:\n",
    "1. Summary statistics by site → `output/q7_site_summary.csv`\n",
    "2. Intervention group comparison → `output/q7_intervention_comparison.csv`\n",
    "3. Text report with key findings → `output/q7_analysis_report.txt`"
   ]
  },
  {
   "cell_type": "markdown",
   "metadata": {},
   "source": [
    "## Answer: Saved above"
   ]
  },
  {
   "cell_type": "markdown",
   "metadata": {},
   "source": [
    "## Summary\n",
    "\n",
    "What are the 3 most important findings from your analysis?"
   ]
  },
  {
   "cell_type": "markdown",
   "metadata": {},
   "source": [
    "**Key Findings:**\n",
    "\n",
    "1. Treatment A is Most Effective: It resulted in the lowest CVD outcome rate 32% and the lowest mean systolic blood pressure 114, making it the most clinically effective treatment.\n",
    "2. Treatment B is Most Feasible: It showed the best patient retention with the fewest dropouts 462 and the highest mean adherence 61%\n",
    "3. Data Cleaning Was Critical: 200 patient records were removed due to sentinel age values (eg -999), a crucial step to ensure the reliability of all subsequent summary statistics.\n"
   ]
  }
 ],
 "metadata": {
  "kernelspec": {
   "display_name": ".venv",
   "language": "python",
   "name": "python3"
  },
  "language_info": {
   "codemirror_mode": {
    "name": "ipython",
    "version": 3
   },
   "file_extension": ".py",
   "mimetype": "text/x-python",
   "name": "python",
   "nbconvert_exporter": "python",
   "pygments_lexer": "ipython3",
   "version": "3.13.7"
  }
 },
 "nbformat": 4,
 "nbformat_minor": 2
}
